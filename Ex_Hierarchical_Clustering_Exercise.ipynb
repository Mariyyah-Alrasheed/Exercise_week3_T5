{
  "nbformat": 4,
  "nbformat_minor": 0,
  "metadata": {
    "colab": {
      "provenance": [],
      "include_colab_link": true
    },
    "kernelspec": {
      "name": "python3",
      "display_name": "Python 3"
    },
    "language_info": {
      "name": "python"
    }
  },
  "cells": [
    {
      "cell_type": "markdown",
      "metadata": {
        "id": "view-in-github",
        "colab_type": "text"
      },
      "source": [
        "<a href=\"https://colab.research.google.com/github/Mariyyah-Alrasheed/Exercise_week3_T5/blob/main/Ex_Hierarchical_Clustering_Exercise.ipynb\" target=\"_parent\"><img src=\"https://colab.research.google.com/assets/colab-badge.svg\" alt=\"Open In Colab\"/></a>"
      ]
    },
    {
      "cell_type": "markdown",
      "source": [
        "#**Python Implementation using the scikit-learn library**"
      ],
      "metadata": {
        "id": "4e6V-qSMAXvS"
      }
    },
    {
      "cell_type": "markdown",
      "source": [
        "#Step 1 : import libraries"
      ],
      "metadata": {
        "id": "Sgm2w_pxAg9T"
      }
    },
    {
      "cell_type": "code",
      "execution_count": 2,
      "metadata": {
        "id": "u_JngPINAVKr"
      },
      "outputs": [],
      "source": [
        "import numpy as np\n",
        "from scipy.cluster.hierarchy import dendrogram,linkage\n"
      ]
    },
    {
      "cell_type": "markdown",
      "source": [
        "#Step 2 : Randomly chosen dataset"
      ],
      "metadata": {
        "id": "MhY9ICWhA0Pa"
      }
    },
    {
      "cell_type": "code",
      "source": [
        "X = np.array([[2,4],[8,3],[23,5],[12,8],[8,23],[12,11]])"
      ],
      "metadata": {
        "id": "VYbzzX4IApVo"
      },
      "execution_count": 3,
      "outputs": []
    },
    {
      "cell_type": "markdown",
      "source": [
        "#Step 3 : Perform hierarchical clustering  + Ploting\n"
      ],
      "metadata": {
        "id": "DQMzE7CyA7zp"
      }
    },
    {
      "cell_type": "code",
      "source": [
        "h = linkage(X,'ward')"
      ],
      "metadata": {
        "id": "K5KNTRWYBIJH"
      },
      "execution_count": 4,
      "outputs": []
    },
    {
      "cell_type": "code",
      "source": [
        "dendrogram?"
      ],
      "metadata": {
        "id": "Dgor9caUT8IN"
      },
      "execution_count": 7,
      "outputs": []
    },
    {
      "cell_type": "code",
      "source": [
        "dendrogram(h);"
      ],
      "metadata": {
        "colab": {
          "base_uri": "https://localhost:8080/",
          "height": 434
        },
        "id": "u6AbowBNTLRR",
        "outputId": "79190155-9fdb-469d-abf3-f3603e878412"
      },
      "execution_count": 8,
      "outputs": [
        {
          "output_type": "display_data",
          "data": {
            "text/plain": [
              "<Figure size 640x480 with 1 Axes>"
            ],
            "image/png": "[encoded data removed]"
          },
          "metadata": {}
        }
      ]
    },
    {
      "cell_type": "code",
      "source": [],
      "metadata": {
        "id": "ogdLOGFPU02G"
      },
      "execution_count": null,
      "outputs": []
    }
  ]
}